{
 "cells": [
  {
   "cell_type": "code",
   "execution_count": 5,
   "metadata": {},
   "outputs": [
    {
     "name": "stdout",
     "output_type": "stream",
     "text": [
      "Processed: data/tired\\03ADDCFB-354E-416D-BF32-260CF47F7060-1433658024-1.1-f-04-ti.wav -> Spectrgraph/tired_spectro\\03ADDCFB-354E-416D-BF32-260CF47F7060-1433658024-1.1-f-04-ti.png\n",
      "Processed: data/tired\\06c4cfa2-7fa6-4fda-91a1-ea186a4acc64-1430029221058-1.7-f-26-ti.wav -> Spectrgraph/tired_spectro\\06c4cfa2-7fa6-4fda-91a1-ea186a4acc64-1430029221058-1.7-f-26-ti.png\n",
      "Processed: data/tired\\06c4cfa2-7fa6-4fda-91a1-ea186a4acc64-1430029237378-1.7-f-26-ti.wav -> Spectrgraph/tired_spectro\\06c4cfa2-7fa6-4fda-91a1-ea186a4acc64-1430029237378-1.7-f-26-ti.png\n",
      "Processed: data/tired\\06c4cfa2-7fa6-4fda-91a1-ea186a4acc64-1430029246453-1.7-f-26-ti.wav -> Spectrgraph/tired_spectro\\06c4cfa2-7fa6-4fda-91a1-ea186a4acc64-1430029246453-1.7-f-26-ti.png\n",
      "Processed: data/tired\\1309B82C-F146-46F0-A723-45345AFA6EA8-1430059864-1.0-f-04-ti.wav -> Spectrgraph/tired_spectro\\1309B82C-F146-46F0-A723-45345AFA6EA8-1430059864-1.0-f-04-ti.png\n",
      "Processed: data/tired\\1309B82C-F146-46F0-A723-45345AFA6EA8-1431172241-1.0-f-48-ti.wav -> Spectrgraph/tired_spectro\\1309B82C-F146-46F0-A723-45345AFA6EA8-1431172241-1.0-f-48-ti.png\n",
      "Processed: data/tired\\5B416CE8-2591-4531-9ADC-86D085B5D48B-1430144827-1.0-m-48-ti.wav -> Spectrgraph/tired_spectro\\5B416CE8-2591-4531-9ADC-86D085B5D48B-1430144827-1.0-m-48-ti.png\n",
      "Processed: data/tired\\79FF400A-97E2-4701-987D-C7C850D5523C-1430089487-1.0-f-48-ti.wav -> Spectrgraph/tired_spectro\\79FF400A-97E2-4701-987D-C7C850D5523C-1430089487-1.0-f-48-ti.png\n",
      "Processed: data/tired\\7A22229D-06C2-4AAA-9674-DE5DF1906B3A-1436891944-1.1-m-72-ti.wav -> Spectrgraph/tired_spectro\\7A22229D-06C2-4AAA-9674-DE5DF1906B3A-1436891944-1.1-m-72-ti.png\n",
      "Processed: data/tired\\7A22229D-06C2-4AAA-9674-DE5DF1906B3A-1436891957-1.1-m-72-ti.wav -> Spectrgraph/tired_spectro\\7A22229D-06C2-4AAA-9674-DE5DF1906B3A-1436891957-1.1-m-72-ti.png\n",
      "Processed: data/tired\\B2AABCE0-1F62-4B57-B58A-308959ABDFE7-1437188751-1.1-m-26-ti.wav -> Spectrgraph/tired_spectro\\B2AABCE0-1F62-4B57-B58A-308959ABDFE7-1437188751-1.1-m-26-ti.png\n",
      "Processed: data/tired\\B2AABCE0-1F62-4B57-B58A-308959ABDFE7-1437188766-1.1-m-26-ti.wav -> Spectrgraph/tired_spectro\\B2AABCE0-1F62-4B57-B58A-308959ABDFE7-1437188766-1.1-m-26-ti.png\n",
      "Processed: data/tired\\b4c460d8-bd6b-4017-9bb8-2ae4ff0c5af1-1430418266487-1.7-f-26-ti.wav -> Spectrgraph/tired_spectro\\b4c460d8-bd6b-4017-9bb8-2ae4ff0c5af1-1430418266487-1.7-f-26-ti.png\n",
      "Processed: data/tired\\C421C6FE-DFEE-4080-8AEA-848E7CE4756B-1430548384-1.0-m-26-ti.wav -> Spectrgraph/tired_spectro\\C421C6FE-DFEE-4080-8AEA-848E7CE4756B-1430548384-1.0-m-26-ti.png\n",
      "Processed: data/tired\\C421C6FE-DFEE-4080-8AEA-848E7CE4756B-1430548393-1.0-f-26-ti.wav -> Spectrgraph/tired_spectro\\C421C6FE-DFEE-4080-8AEA-848E7CE4756B-1430548393-1.0-f-26-ti.png\n",
      "Processed: data/tired\\C5127741-5897-468C-A543-7F1B72569F0E-1428333964-1.0-m-26-ti.wav -> Spectrgraph/tired_spectro\\C5127741-5897-468C-A543-7F1B72569F0E-1428333964-1.0-m-26-ti.png\n",
      "Processed: data/tired\\ca7d8d54-13cb-4060-8db4-90651b60c078-1434674792223-1.7-f-26-ti.wav -> Spectrgraph/tired_spectro\\ca7d8d54-13cb-4060-8db4-90651b60c078-1434674792223-1.7-f-26-ti.png\n",
      "Processed: data/tired\\cecd525b-18fd-49e3-b2b9-dfb08b93ad95-1430110029205-1.7-m-26-ti.wav -> Spectrgraph/tired_spectro\\cecd525b-18fd-49e3-b2b9-dfb08b93ad95-1430110029205-1.7-m-26-ti.png\n",
      "Processed: data/tired\\D4665929-8695-4655-927F-63F09B2D4CB8-1430726940-1.0-f-26-ti.wav -> Spectrgraph/tired_spectro\\D4665929-8695-4655-927F-63F09B2D4CB8-1430726940-1.0-f-26-ti.png\n",
      "Processed: data/tired\\d5abedab-9ed5-48d0-a83b-fc00c33d6d6b-1430079192907-1.7-f-04-ti.wav -> Spectrgraph/tired_spectro\\d5abedab-9ed5-48d0-a83b-fc00c33d6d6b-1430079192907-1.7-f-04-ti.png\n",
      "Processed: data/tired\\d6cda191-4962-4308-9a36-46d5648a95ed-1431587887997-1.7-m-04-ti.wav -> Spectrgraph/tired_spectro\\d6cda191-4962-4308-9a36-46d5648a95ed-1431587887997-1.7-m-04-ti.png\n",
      "Processed: data/tired\\d6cda191-4962-4308-9a36-46d5648a95ed-1431587899682-1.7-m-04-ti.wav -> Spectrgraph/tired_spectro\\d6cda191-4962-4308-9a36-46d5648a95ed-1431587899682-1.7-m-04-ti.png\n",
      "Processed: data/tired\\d6cda191-4962-4308-9a36-46d5648a95ed-1431616581736-1.7-m-04-ti.wav -> Spectrgraph/tired_spectro\\d6cda191-4962-4308-9a36-46d5648a95ed-1431616581736-1.7-m-04-ti.png\n",
      "Processed: data/tired\\eea17285-4ab9-4d34-a2f5-55fc8c866ac6-1431887695278-1.7-f-26-ti.wav -> Spectrgraph/tired_spectro\\eea17285-4ab9-4d34-a2f5-55fc8c866ac6-1431887695278-1.7-f-26-ti.png\n"
     ]
    }
   ],
   "source": [
    "import os\n",
    "import librosa\n",
    "import librosa.display\n",
    "import matplotlib.pyplot as plt\n",
    "import numpy as np\n",
    "\n",
    "# Define the input directory containing audio files\n",
    "input_directory = 'data/tired'  # Replace with your input directory path\n",
    "\n",
    "# Define the output directory for saving spectrograms\n",
    "output_directory = 'Spectrgraph/tired_spectro'  # Replace with your output directory path\n",
    "\n",
    "# Create the output directory if it doesn't exist\n",
    "os.makedirs(output_directory, exist_ok=True)\n",
    "\n",
    "# Function to convert audio to spectrogram and save as an image\n",
    "def audio_to_spectrogram(audio_path, output_path, sample_rate=22050, n_fft=2048, hop_length=512):\n",
    "    try:\n",
    "        # Load the audio file\n",
    "        y, sr = librosa.load(audio_path, sr=sample_rate)\n",
    "\n",
    "        # Generate a spectrogram\n",
    "        D = np.abs(librosa.stft(y, n_fft=n_fft, hop_length=hop_length))\n",
    "        plt.figure(figsize=(4, 4))\n",
    "        librosa.display.specshow(librosa.amplitude_to_db(D, ref=np.max), y_axis='log', x_axis='time')\n",
    "        plt.colorbar(format='%+2.0f dB')\n",
    "        plt.title('Spectrogram')\n",
    "        plt.tight_layout()\n",
    "\n",
    "        # Save the spectrogram as an image\n",
    "        plt.savefig(output_path)\n",
    "        plt.close()\n",
    "    except Exception as e:\n",
    "        print(f\"Error processing {audio_path}: {str(e)}\")\n",
    "\n",
    "# Iterate through audio files in the input directory\n",
    "for root, _, files in os.walk(input_directory):\n",
    "    for file in files:\n",
    "        if file.endswith(\".wav\"):  # You can adjust the file extension as needed\n",
    "            audio_file_path = os.path.join(root, file)\n",
    "            output_file_path = os.path.join(output_directory, file.replace(\".wav\", \".png\"))\n",
    "            audio_to_spectrogram(audio_file_path, output_file_path)\n",
    "            print(f\"Processed: {audio_file_path} -> {output_file_path}\")\n"
   ]
  },
  {
   "cell_type": "code",
   "execution_count": null,
   "metadata": {},
   "outputs": [],
   "source": []
  }
 ],
 "metadata": {
  "kernelspec": {
   "display_name": "Python 3",
   "language": "python",
   "name": "python3"
  },
  "language_info": {
   "codemirror_mode": {
    "name": "ipython",
    "version": 3
   },
   "file_extension": ".py",
   "mimetype": "text/x-python",
   "name": "python",
   "nbconvert_exporter": "python",
   "pygments_lexer": "ipython3",
   "version": "3.7.6"
  }
 },
 "nbformat": 4,
 "nbformat_minor": 2
}
